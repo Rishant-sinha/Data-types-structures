{
  "nbformat": 4,
  "nbformat_minor": 0,
  "metadata": {
    "colab": {
      "provenance": []
    },
    "kernelspec": {
      "name": "python3",
      "display_name": "Python 3"
    },
    "language_info": {
      "name": "python"
    }
  },
  "cells": [
    {
      "cell_type": "markdown",
      "source": [
        "1. What are data structures, and why are they important?\n",
        "- Data structures are organized ways to store, manage, and manipulate data efficiently for various operations. Examples include arrays, linked lists, stacks, queues, trees, graphs, and hash tables.\n",
        "Importance:\n",
        "Optimize data storage and retrieval.\n",
        "Enhance algorithm efficiency.\n",
        "Simplify complex problems.\n",
        "Manage large-scale data effectively."
      ],
      "metadata": {
        "id": "qDc2LdWSGNdo"
      }
    },
    {
      "cell_type": "markdown",
      "source": [
        "2. Difference between mutable and immutable data types with examples\n",
        "- Mutable: Can be modified after creation.\n",
        "Examples: Lists, dictionaries, sets.\n",
        "- Immutable: Cannot be modified after creation.\n",
        "Examples: Tuples, strings, numbers."
      ],
      "metadata": {
        "id": "7GNnsfYfGQcM"
      }
    },
    {
      "cell_type": "markdown",
      "source": [
        "3. Main differences between lists and tuples in Python\n",
        "- Lists:\n",
        "Mutable.\n",
        "Slower.\n",
        "Use more memory due to dynamic resizing.\n",
        "Example: [1, 2, 3]\n",
        "- Tuples:\n",
        "Immutable.\n",
        "Faster and use less memory.\n",
        "Example: (1, 2, 3)\n"
      ],
      "metadata": {
        "id": "GOv47SbcGd7q"
      }
    },
    {
      "cell_type": "markdown",
      "source": [
        "4. How dictionaries store data\n",
        "- Dictionaries use a hash table internally. Keys are hashed to generate a unique index for storage, enabling fast lookups, insertions, and deletions."
      ],
      "metadata": {
        "id": "WQq8p74MGonX"
      }
    },
    {
      "cell_type": "markdown",
      "source": [
        "5. Why use a set instead of a list in Python?\n",
        "- Sets:\n",
        "Eliminate duplicates automatically.\n",
        "\n",
        "  Support faster membership testing (in keyword).\n",
        "- Use case: Maintaining a collection of unique items.\n"
      ],
      "metadata": {
        "id": "7pWad2H6GwMc"
      }
    },
    {
      "cell_type": "markdown",
      "source": [
        "6. What is a string in Python, and how is it different from a list?\n",
        "- String: A sequence of characters, immutable.\n",
        "\n",
        "  my_string = \"hello\"\n",
        "- List: A collection of items, mutable.\n",
        "\n",
        "  my_list = ['h', 'e', 'l', 'l', 'o']"
      ],
      "metadata": {
        "id": "BgBkAbW6HEMQ"
      }
    },
    {
      "cell_type": "markdown",
      "source": [
        "7. How tuples ensure data integrity in Python\n",
        "- Tuples are immutable, preventing accidental changes to data, making them suitable for use as keys in dictionaries or ensuring consistent configurations."
      ],
      "metadata": {
        "id": "xJUecMBQHbOl"
      }
    },
    {
      "cell_type": "markdown",
      "source": [
        "8. What is a hash table, and how does it relate to dictionaries in Python?\n",
        "- A hash table is a data structure that maps keys to values using a hashing function. Python dictionaries are implemented using hash tables for efficient key-based access.\n"
      ],
      "metadata": {
        "id": "0dg8zvsEHfOP"
      }
    },
    {
      "cell_type": "markdown",
      "source": [
        "9. Can lists contain different data types in Python?\n",
        "- Yes. Python lists are heterogeneous:\n",
        "\n",
        " mixed_list = [1, \"hello\", 3.14, [1, 2]]"
      ],
      "metadata": {
        "id": "mQOKWiYqHrnn"
      }
    },
    {
      "cell_type": "markdown",
      "source": [
        "10. Why are strings immutable in Python?\n",
        "- Strings are immutable to ensure security, thread safety, and efficient memory usage via string interning and caching."
      ],
      "metadata": {
        "id": "dwK_xJICH3dw"
      }
    },
    {
      "cell_type": "markdown",
      "source": [
        "11. Advantages of dictionaries over lists\n",
        "- Key-based data retrieval (O(1) time complexity).\n",
        "Uniqueness of keys ensures no duplicate identifiers."
      ],
      "metadata": {
        "id": "NYaOb56rIRw5"
      }
    },
    {
      "cell_type": "markdown",
      "source": [
        "12. Scenario where tuples are preferable over lists\n",
        "- When data must remain constant, such as coordinates or fixed configurations\n",
        "  \n",
        "  example:\n",
        "  coordinates = (40.7128, -74.0060)  # Latitude and longitude\n"
      ],
      "metadata": {
        "id": "_PySWA_xIg_V"
      }
    },
    {
      "cell_type": "markdown",
      "source": [
        "13. How sets handle duplicate values in Python\n",
        "- Sets automatically discard duplicate values:\n",
        "\n",
        "  example:\n",
        "  \n",
        "  my_set = {1, 2, 2, 3}\n",
        "  \n",
        "  print(my_set)  # Output: {1, 2, 3}\n"
      ],
      "metadata": {
        "id": "fwHDxSv3I5Ze"
      }
    },
    {
      "cell_type": "markdown",
      "source": [
        "14. How does the in keyword work differently for lists and dictionaries?\n",
        "- List: Checks if a value exists.\n",
        "- Dictionary: Checks if a key exists."
      ],
      "metadata": {
        "id": "uOW_oY7oJLfN"
      }
    },
    {
      "cell_type": "markdown",
      "source": [
        "15. Can you modify the elements of a tuple?\n",
        "- No. Tuples are immutable, so elements cannot be modified after creation"
      ],
      "metadata": {
        "id": "_nlRMYSZJRF2"
      }
    },
    {
      "cell_type": "markdown",
      "source": [
        "16. What is a nested dictionary, and give an example of its use case\n",
        "- A dictionary containing other dictionaries.\n",
        "\n",
        " Example: Representing a database of students:\n",
        "\n",
        " students = {\n",
        "    \n",
        "    \"Rishant\": {\"age\": 25, \"grade\": \"A\"},\n",
        "   \n",
        "    \"Sinha\": {\"age\": 22, \"grade\": \"B\"}\n",
        "\n",
        "  }\n"
      ],
      "metadata": {
        "id": "MbOF4JuwJYax"
      }
    },
    {
      "cell_type": "markdown",
      "source": [
        "17. Time complexity of accessing elements in a dictionary\n",
        "- O(1) on average, here hash table implementation helps.\n"
      ],
      "metadata": {
        "id": "2mzti4PVJyqZ"
      }
    },
    {
      "cell_type": "markdown",
      "source": [
        "18. When are lists preferred over dictionaries?\n",
        "- When order matters or when storing duplicate values."
      ],
      "metadata": {
        "id": "udBg7RbTKEIG"
      }
    },
    {
      "cell_type": "markdown",
      "source": [
        "19. Why are dictionaries considered unordered, and how does that affect data retrieval?\n",
        "- Dictionaries prior to Python 3.7 did not maintain insertion order. Even now, key-value retrieval relies on hashing, not order.\n"
      ],
      "metadata": {
        "id": "15rS5tAcKJIl"
      }
    },
    {
      "cell_type": "markdown",
      "source": [
        "20. Difference between a list and a dictionary in terms of data retrieval\n",
        "- List: Access via index (sequential or positional).\n",
        "- Dictionary: Access via key (hashed for direct access)."
      ],
      "metadata": {
        "id": "SMbdZKTfKPaV"
      }
    },
    {
      "cell_type": "code",
      "source": [
        "# 1. Create a string with your name and print it\n",
        "name = \"Rishant sinha\"\n",
        "print(name)\n",
        "\n",
        "\n"
      ],
      "metadata": {
        "colab": {
          "base_uri": "https://localhost:8080/"
        },
        "id": "LOTHNvc2K5JA",
        "outputId": "d5708ce4-e685-4432-814d-640afcb1fdff"
      },
      "execution_count": 3,
      "outputs": [
        {
          "output_type": "stream",
          "name": "stdout",
          "text": [
            "Rishant sinha\n"
          ]
        }
      ]
    },
    {
      "cell_type": "code",
      "source": [
        "# 2. Write a code to find the length of the string \"Hello World\"\n",
        "string = \"Hello World\"\n",
        "length = len(string)\n",
        "print(\"The length of the string is:\", length)\n"
      ],
      "metadata": {
        "colab": {
          "base_uri": "https://localhost:8080/"
        },
        "id": "AOSUx_BGNZaV",
        "outputId": "f105929c-7365-4e21-d7a6-55ba9416cce5"
      },
      "execution_count": 6,
      "outputs": [
        {
          "output_type": "stream",
          "name": "stdout",
          "text": [
            "The length of the string is: 11\n"
          ]
        }
      ]
    },
    {
      "cell_type": "code",
      "source": [
        "# 3. Write a code to slice the first 3 characters from the string \"Python Programming\"\n",
        "string = \"Python Programming\"\n",
        "sliced = string[:3]\n",
        "print(\"The first 3 character are:\", sliced)\n"
      ],
      "metadata": {
        "colab": {
          "base_uri": "https://localhost:8080/"
        },
        "id": "ywphUCs3Ny1e",
        "outputId": "063b131d-6c92-4db1-f0e5-1f8bfee42749"
      },
      "execution_count": 8,
      "outputs": [
        {
          "output_type": "stream",
          "name": "stdout",
          "text": [
            "The first 3 character are: Pyt\n"
          ]
        }
      ]
    },
    {
      "cell_type": "code",
      "source": [
        "# 4. Write a code to convert the string \"hello\" to uppercase\n",
        "string = \"hello\"\n",
        "uppercase_string = string.upper()\n",
        "print(\"The uppercase string is:\", uppercase_string)\n"
      ],
      "metadata": {
        "colab": {
          "base_uri": "https://localhost:8080/"
        },
        "id": "aRFhTi8AOKb6",
        "outputId": "80510a6b-a2bf-45dc-a014-bfa07b0bdc4b"
      },
      "execution_count": 9,
      "outputs": [
        {
          "output_type": "stream",
          "name": "stdout",
          "text": [
            "The uppercase string is: HELLO\n"
          ]
        }
      ]
    },
    {
      "cell_type": "code",
      "source": [
        "# 5. Write a code to replace the word \"apple\" with \"orange\" in the string \"I like apple\"\n",
        "string = \"I like apple\"\n",
        "replaced_string = string.replace(\"apple\", \"orange\")\n",
        "print(\"Updated string:\", replaced_string)\n"
      ],
      "metadata": {
        "colab": {
          "base_uri": "https://localhost:8080/"
        },
        "id": "fH9Y0RoROikO",
        "outputId": "fb61d29b-9ba7-4d55-ad76-d2572486ab4c"
      },
      "execution_count": 10,
      "outputs": [
        {
          "output_type": "stream",
          "name": "stdout",
          "text": [
            "Updated string: I like orange\n"
          ]
        }
      ]
    },
    {
      "cell_type": "code",
      "source": [
        "# 6. Write a code to create a list with numbers 1 to 5 and print it\n",
        "numbers = [1, 2, 3, 4, 5]\n",
        "print(numbers)\n"
      ],
      "metadata": {
        "colab": {
          "base_uri": "https://localhost:8080/"
        },
        "id": "FKOhf1CUO1Gz",
        "outputId": "6483e385-4de1-4a4f-895f-0aaf2d3e6192"
      },
      "execution_count": 12,
      "outputs": [
        {
          "output_type": "stream",
          "name": "stdout",
          "text": [
            "[1, 2, 3, 4, 5]\n",
            "[1, 2, 3, 4, 5]\n"
          ]
        }
      ]
    },
    {
      "cell_type": "code",
      "source": [
        "# 7. Write a code to append the number 10 to the list [1, 2, 3, 4]\n",
        "numbers = [1, 2, 3, 4]\n",
        "numbers.append(10)\n",
        "print(numbers)\n"
      ],
      "metadata": {
        "colab": {
          "base_uri": "https://localhost:8080/"
        },
        "id": "waZ2OJpCPV23",
        "outputId": "00b5e2e4-1848-4309-82bf-167b453b9fa9"
      },
      "execution_count": 13,
      "outputs": [
        {
          "output_type": "stream",
          "name": "stdout",
          "text": [
            "[1, 2, 3, 4, 10]\n"
          ]
        }
      ]
    },
    {
      "cell_type": "code",
      "source": [
        "# 8.  Write a code to remove the number 3 from the list [1, 2, 3, 4, 5]\n",
        "numbers = [1, 2, 3, 4, 5]\n",
        "numbers.remove(3)\n",
        "print(numbers)\n"
      ],
      "metadata": {
        "colab": {
          "base_uri": "https://localhost:8080/"
        },
        "id": "1fs270TYQA-I",
        "outputId": "0c6dce72-db24-4209-a316-c71437ed0cfe"
      },
      "execution_count": 14,
      "outputs": [
        {
          "output_type": "stream",
          "name": "stdout",
          "text": [
            "[1, 2, 4, 5]\n"
          ]
        }
      ]
    },
    {
      "cell_type": "code",
      "source": [
        "# 9. Write a code to access the second element in the list ['a', 'b', 'c', 'd']\n",
        "letters = ['a', 'b', 'c', 'd']\n",
        "second_element = letters[1]\n",
        "print(second_element)\n",
        "\n"
      ],
      "metadata": {
        "colab": {
          "base_uri": "https://localhost:8080/"
        },
        "id": "bdRU-6M4QPtr",
        "outputId": "3acacab9-3866-4357-c8c9-3ae1594ee481"
      },
      "execution_count": 15,
      "outputs": [
        {
          "output_type": "stream",
          "name": "stdout",
          "text": [
            "b\n"
          ]
        }
      ]
    },
    {
      "cell_type": "code",
      "source": [
        "# 10. Write a code to reverse the list [10, 20, 30, 40, 50].\n",
        "numbers = [10, 20, 30, 40, 50]\n",
        "numbers.reverse()\n",
        "print(numbers)\n"
      ],
      "metadata": {
        "colab": {
          "base_uri": "https://localhost:8080/"
        },
        "id": "EaiF9dOaQf6U",
        "outputId": "9a96bfe5-e373-49da-92cc-ad5e15b5daea"
      },
      "execution_count": 16,
      "outputs": [
        {
          "output_type": "stream",
          "name": "stdout",
          "text": [
            "[50, 40, 30, 20, 10]\n"
          ]
        }
      ]
    },
    {
      "cell_type": "code",
      "source": [
        "# 11.  Write a code to create a tuple with the elements 10, 20, 30 and print it.\n",
        "my_tuple = (10, 20, 30)\n",
        "print(my_tuple)\n",
        "\n"
      ],
      "metadata": {
        "colab": {
          "base_uri": "https://localhost:8080/"
        },
        "id": "7qXly9QyQ26v",
        "outputId": "b6b4bdc3-bad8-49a7-8a9a-34c2456b0550"
      },
      "execution_count": 17,
      "outputs": [
        {
          "output_type": "stream",
          "name": "stdout",
          "text": [
            "(10, 20, 30)\n"
          ]
        }
      ]
    },
    {
      "cell_type": "code",
      "source": [
        "# 12.  Write a code to access the first element of the tuple ('apple', 'banana', 'cherry').\n",
        "fruits = ('apple', 'banana', 'cherry')\n",
        "first_element = fruits[0]\n",
        "print(first_element)\n"
      ],
      "metadata": {
        "colab": {
          "base_uri": "https://localhost:8080/"
        },
        "id": "L9kTfiVPRClA",
        "outputId": "9713346f-91c2-4023-f0f1-da65c85ab60b"
      },
      "execution_count": 18,
      "outputs": [
        {
          "output_type": "stream",
          "name": "stdout",
          "text": [
            "apple\n"
          ]
        }
      ]
    },
    {
      "cell_type": "code",
      "source": [
        "# 13. Write a code to count how many times the number 2 appears in the tuple (1, 2, 3, 2, 4, 2).\n",
        "my_tuple = (1, 2, 3, 2, 4, 2)\n",
        "count = my_tuple.count(2)\n",
        "print(count)\n"
      ],
      "metadata": {
        "colab": {
          "base_uri": "https://localhost:8080/"
        },
        "id": "sHxQtW0_RXfH",
        "outputId": "c9d5eef8-724d-4317-99c3-c116c49f249a"
      },
      "execution_count": 19,
      "outputs": [
        {
          "output_type": "stream",
          "name": "stdout",
          "text": [
            "3\n"
          ]
        }
      ]
    },
    {
      "cell_type": "code",
      "source": [
        "# 14.  Write a code to find the index of the element \"cat\" in the tuple ('dog', 'cat', 'rabbit').\n",
        "my_tuple = ('dog', 'cat', 'rabbit')\n",
        "index = my_tuple.index('cat')\n",
        "print(index)\n"
      ],
      "metadata": {
        "colab": {
          "base_uri": "https://localhost:8080/"
        },
        "id": "iv7Fth0JRqHa",
        "outputId": "ec09ae81-2488-4d57-8578-48ef1c2bb528"
      },
      "execution_count": 20,
      "outputs": [
        {
          "output_type": "stream",
          "name": "stdout",
          "text": [
            "1\n"
          ]
        }
      ]
    },
    {
      "cell_type": "code",
      "source": [
        "# 15.  Write a code to check if the element \"banana\" is in the tuple ('apple', 'orange', 'banana').\n",
        "my_tuple = ('apple', 'orange', 'banana')\n",
        "is_banana_present = 'banana' in my_tuple\n",
        "print(is_banana_present)\n"
      ],
      "metadata": {
        "colab": {
          "base_uri": "https://localhost:8080/"
        },
        "id": "aiS_qR02RwHv",
        "outputId": "c93b1e6a-86dc-4662-bb22-8cfa36f78ab4"
      },
      "execution_count": 21,
      "outputs": [
        {
          "output_type": "stream",
          "name": "stdout",
          "text": [
            "True\n"
          ]
        }
      ]
    },
    {
      "cell_type": "code",
      "source": [
        "# 16. Write a code to create a set with the elements 1, 2, 3, 4, 5 and print it.\n",
        "my_set = {1, 2, 3, 4, 5}\n",
        "print(my_set)\n"
      ],
      "metadata": {
        "colab": {
          "base_uri": "https://localhost:8080/"
        },
        "id": "T5pmoG-ZSGBN",
        "outputId": "bfef2ecb-10fa-4619-9431-455af2efcfef"
      },
      "execution_count": 22,
      "outputs": [
        {
          "output_type": "stream",
          "name": "stdout",
          "text": [
            "{1, 2, 3, 4, 5}\n"
          ]
        }
      ]
    },
    {
      "cell_type": "code",
      "source": [
        "# 17. Write a code to add the element 6 to the set {1, 2, 3, 4}.\n",
        "my_set = {1, 2, 3, 4}\n",
        "my_set.add(6)\n",
        "print(my_set)\n"
      ],
      "metadata": {
        "colab": {
          "base_uri": "https://localhost:8080/"
        },
        "id": "wqdBpPCFSh_m",
        "outputId": "b7190a10-64a5-4b20-bbd3-475563cc72f1"
      },
      "execution_count": 23,
      "outputs": [
        {
          "output_type": "stream",
          "name": "stdout",
          "text": [
            "{1, 2, 3, 4, 6}\n"
          ]
        }
      ]
    },
    {
      "cell_type": "code",
      "source": [
        "# 18. Write a code to create a tuple with the elements 10, 20, 30 and print it.\n",
        "my_tuple = (10, 20, 30)\n",
        "print(my_tuple)\n"
      ],
      "metadata": {
        "colab": {
          "base_uri": "https://localhost:8080/"
        },
        "id": "Wn54z3PGSmgI",
        "outputId": "80104b55-e578-452c-f4da-e5749b12c2ba"
      },
      "execution_count": 24,
      "outputs": [
        {
          "output_type": "stream",
          "name": "stdout",
          "text": [
            "(10, 20, 30)\n"
          ]
        }
      ]
    },
    {
      "cell_type": "code",
      "source": [
        "# 19. Write a code to access the first element of the tuple ('apple', 'banana', 'cherry').\n",
        "fruits = ('apple', 'banana', 'cherry')\n",
        "first_element = fruits[0]\n",
        "print(first_element)\n"
      ],
      "metadata": {
        "colab": {
          "base_uri": "https://localhost:8080/"
        },
        "id": "EK7pRzXSTOLD",
        "outputId": "015bb943-02f4-498b-f36c-5437cabb9fd6"
      },
      "execution_count": 25,
      "outputs": [
        {
          "output_type": "stream",
          "name": "stdout",
          "text": [
            "apple\n"
          ]
        }
      ]
    },
    {
      "cell_type": "code",
      "source": [
        "# 20. Write a code to count how many times the number 2 appears in the tuple (1, 2, 3, 2, 4, 2).\n",
        "my_tuple = (1, 2, 3, 2, 4, 2)\n",
        "count = my_tuple.count(2)\n",
        "print(\"The number 2 appears\", count, \"times.\")\n"
      ],
      "metadata": {
        "colab": {
          "base_uri": "https://localhost:8080/"
        },
        "id": "xoRMsk_RUmmv",
        "outputId": "aa8b5b5e-a046-4256-ac99-8f272e069058"
      },
      "execution_count": 26,
      "outputs": [
        {
          "output_type": "stream",
          "name": "stdout",
          "text": [
            "The number 2 appears 3 times.\n"
          ]
        }
      ]
    },
    {
      "cell_type": "code",
      "source": [
        "# 21.  Write a code to find the index of the element \"cat\" in the tuple ('dog', 'cat', 'rabbit').\n",
        "animals = ('dog', 'cat', 'rabbit')\n",
        "index_of_cat = animals.index('cat')\n",
        "print(\"The index of 'cat' is:\", index_of_cat)\n"
      ],
      "metadata": {
        "colab": {
          "base_uri": "https://localhost:8080/"
        },
        "id": "o5cfwWqBVQNL",
        "outputId": "e585f298-aecf-46f4-fa41-e2c015d3ca98"
      },
      "execution_count": 27,
      "outputs": [
        {
          "output_type": "stream",
          "name": "stdout",
          "text": [
            "The index of 'cat' is: 1\n"
          ]
        }
      ]
    },
    {
      "cell_type": "code",
      "source": [
        "# 22.  Write a code to check if the element \"banana\" is in the tuple ('apple', 'orange', 'banana').\n",
        "fruits = ('apple', 'orange', 'banana')\n",
        "\n",
        "# Check if \"banana\" is in the tuple\n",
        "if 'banana' in fruits:\n",
        "    print(\"Banana is in the tuple.\")\n",
        "else:\n",
        "    print(\"Banana is not in the tuple.\")\n"
      ],
      "metadata": {
        "colab": {
          "base_uri": "https://localhost:8080/"
        },
        "id": "OXgnE7LJVabA",
        "outputId": "e56afe21-96c8-49a0-bc05-12544f8f9a1c"
      },
      "execution_count": 28,
      "outputs": [
        {
          "output_type": "stream",
          "name": "stdout",
          "text": [
            "Banana is in the tuple.\n"
          ]
        }
      ]
    },
    {
      "cell_type": "code",
      "source": [
        "# 23. Write a code to create a set with the elements 1, 2, 3, 4, 5 and print it.\n",
        "my_set = {1, 2, 3, 4, 5}\n",
        "\n",
        "# Print the set\n",
        "print(\"The set is:\", my_set)\n"
      ],
      "metadata": {
        "colab": {
          "base_uri": "https://localhost:8080/"
        },
        "id": "Y37ngqfxVsqC",
        "outputId": "1bbb5246-d951-44fe-8d7f-96a7a3a2558b"
      },
      "execution_count": 29,
      "outputs": [
        {
          "output_type": "stream",
          "name": "stdout",
          "text": [
            "The set is: {1, 2, 3, 4, 5}\n"
          ]
        }
      ]
    },
    {
      "cell_type": "code",
      "source": [
        "# 24.  Write a code to add the element 6 to the set {1, 2, 3, 4}\n",
        "my_set = {1, 2, 3, 4}\n",
        "\n",
        "# Add the element 6 to the set\n",
        "my_set.add(6)\n",
        "\n",
        "# Print the updated set\n",
        "print(\"Updated set:\", my_set)\n"
      ],
      "metadata": {
        "colab": {
          "base_uri": "https://localhost:8080/"
        },
        "id": "Adl16VryV2jB",
        "outputId": "d000a377-66c8-4d72-8fd8-dfaa67847483"
      },
      "execution_count": 30,
      "outputs": [
        {
          "output_type": "stream",
          "name": "stdout",
          "text": [
            "Updated set: {1, 2, 3, 4, 6}\n"
          ]
        }
      ]
    }
  ]
}